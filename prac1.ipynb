{
  "nbformat": 4,
  "nbformat_minor": 0,
  "metadata": {
    "colab": {
      "provenance": []
    },
    "kernelspec": {
      "name": "python3",
      "display_name": "Python 3"
    },
    "language_info": {
      "name": "python"
    }
  },
  "cells": [
    {
      "cell_type": "markdown",
      "source": [
        "1. Import Numpy"
      ],
      "metadata": {
        "id": "_wT_IP6M2DL5"
      }
    },
    {
      "cell_type": "code",
      "execution_count": 1,
      "metadata": {
        "id": "zQC4L8jkm3s3"
      },
      "outputs": [],
      "source": [
        "import numpy as np"
      ]
    },
    {
      "cell_type": "markdown",
      "source": [],
      "metadata": {
        "id": "Jymg02o_15gH"
      }
    },
    {
      "cell_type": "markdown",
      "source": [
        "2. Numpy Array: Array with one dimention → Vectors, Two dimentions →\n",
        "Matrices, Three or more dimentions → Tensors\n",
        "a. Create numpy array and print it. Use np.array\n",
        "b. Create a two-dimentional array and print it.\n",
        "c. Use the shape function to determine the shape of array.\n",
        "d. Use reshape function to convert vector into matrix and matrix into\n",
        "vector."
      ],
      "metadata": {
        "id": "YOZN6iqR2eZd"
      }
    },
    {
      "cell_type": "code",
      "source": [
        "# 2. Numpy Array:\n",
        "# a. Create numpy array and print it\n",
        "arr1 = np.array([1, 2, 3, 4, 5])\n",
        "print(\"1D Array:\\n\", arr1)\n",
        "\n",
        "# b. Create a two-dimensional array and print it\n",
        "arr2 = np.array([[1, 2, 3], [4, 5, 6]])\n",
        "print(\"2D Array:\\n\", arr2)\n",
        "\n",
        "# c. Use shape function to determine the shape of array\n",
        "print(\"Shape of 2D array:\", arr2.shape)\n",
        "\n",
        "# d. Reshape function\n",
        "reshaped = arr1.reshape(1, 5)\n",
        "print(\"Reshaped Array:\\n\", reshaped)"
      ],
      "metadata": {
        "colab": {
          "base_uri": "https://localhost:8080/",
          "height": 0
        },
        "id": "V2RBf1jn2JsP",
        "outputId": "24b5062c-66ce-4615-db17-cbcb7c7a8a15"
      },
      "execution_count": 2,
      "outputs": [
        {
          "output_type": "stream",
          "name": "stdout",
          "text": [
            "1D Array:\n",
            " [1 2 3 4 5]\n",
            "2D Array:\n",
            " [[1 2 3]\n",
            " [4 5 6]]\n",
            "Shape of 2D array: (2, 3)\n",
            "Reshaped Array:\n",
            " [[1 2 3 4 5]]\n"
          ]
        }
      ]
    },
    {
      "cell_type": "markdown",
      "source": [],
      "metadata": {
        "id": "8Tii_tzX2i6O"
      }
    },
    {
      "cell_type": "markdown",
      "source": [
        "3. Creating Arrays:\n",
        "a. Create an array using numpy arange function.\n",
        "b. Reshape it into a matrix form using reshape function.\n",
        "c. Create arrays filled with zeros and ones. Use zeros and ones function.\n",
        "d. Create two arrays with zeros and ones and combine them using:\n",
        "i. as columns next to each other using column_stack\n",
        "ii. as rows underneath each other using row_stack"
      ],
      "metadata": {
        "id": "0AwHUK1e2odh"
      }
    },
    {
      "cell_type": "code",
      "source": [
        "# 3. Creating Arrays\n",
        "\n",
        "# a. Create an array using arange function\n",
        "arr3 = np.arange(10)\n",
        "print(\"Arange array:\\n\", arr3)\n",
        "\n",
        "# b. Reshape it into matrix form\n",
        "arr3_matrix = arr3.reshape(2, 5)\n",
        "print(\"Reshaped matrix:\\n\", arr3_matrix)\n",
        "\n",
        "# c. Create arrays filled with zeros and ones\n",
        "zeros_array = np.zeros((3, 3))\n",
        "ones_array = np.ones((3, 3))\n",
        "print(\"Zeros:\\n\", zeros_array)\n",
        "print(\"Ones:\\n\", ones_array)\n",
        "\n",
        "# d. Combine arrays\n",
        "combined_col = np.column_stack((zeros_array, ones_array))\n",
        "combined_row = np.row_stack((zeros_array, ones_array))\n",
        "print(\"Column stacked:\\n\", combined_col)\n",
        "print(\"Row stacked:\\n\", combined_row)"
      ],
      "metadata": {
        "colab": {
          "base_uri": "https://localhost:8080/",
          "height": 0
        },
        "id": "xhLHt5xV2nt_",
        "outputId": "8159560b-63c6-43e6-fd44-b4058c52cdba"
      },
      "execution_count": 3,
      "outputs": [
        {
          "output_type": "stream",
          "name": "stdout",
          "text": [
            "Arange array:\n",
            " [0 1 2 3 4 5 6 7 8 9]\n",
            "Reshaped matrix:\n",
            " [[0 1 2 3 4]\n",
            " [5 6 7 8 9]]\n",
            "Zeros:\n",
            " [[0. 0. 0.]\n",
            " [0. 0. 0.]\n",
            " [0. 0. 0.]]\n",
            "Ones:\n",
            " [[1. 1. 1.]\n",
            " [1. 1. 1.]\n",
            " [1. 1. 1.]]\n",
            "Column stacked:\n",
            " [[0. 0. 0. 1. 1. 1.]\n",
            " [0. 0. 0. 1. 1. 1.]\n",
            " [0. 0. 0. 1. 1. 1.]]\n",
            "Row stacked:\n",
            " [[0. 0. 0.]\n",
            " [0. 0. 0.]\n",
            " [0. 0. 0.]\n",
            " [1. 1. 1.]\n",
            " [1. 1. 1.]\n",
            " [1. 1. 1.]]\n"
          ]
        }
      ]
    },
    {
      "cell_type": "markdown",
      "source": [
        "4. Vectorized Functions:\n",
        "• Numpy offers a plethora of vectorized functions and operators,\n",
        "called universal functions.\n",
        "Vectorized operations are easier to code, easier to read, and result in\n",
        "faster code.\n",
        "a. Create a matrix of size 3X4 using arrange.\n",
        "b. Add 150 to each element.\n",
        "c. Rise each element to power of 2.\n",
        "d. Create the array a\n",
        "## ([[ 2, 4, 6, 8, 10],\n",
        "## [12, 14, 16, 18, 20],\n",
        "## [22, 24, 26, 28, 30],\n",
        "## [32, 34, 36, 38, 40]])\n",
        "Hint: Use arrange function to create matrix of size 4X5 then apply\n",
        "addition and multiplication operators.\n",
        "e. Use comparison operators (a>6, a==10)\n",
        "f. Use logical operators. ((a < 3) | (a > 8)), ((a > 4) & (a < 7)), (~(a > 6))"
      ],
      "metadata": {
        "id": "_tAyI9OK2rtN"
      }
    },
    {
      "cell_type": "code",
      "source": [
        "# 4. Vectorized Functions\n",
        "\n",
        "# a. Create a matrix of size 3X4 using arrange\n",
        "matrix = np.arange(12).reshape(3, 4)\n",
        "print(\"3x4 Matrix:\\n\", matrix)\n",
        "\n",
        "# b. Add 150 to each element\n",
        "matrix_added = matrix + 150\n",
        "print(\"Added 150:\\n\", matrix_added)\n",
        "\n",
        "# c. Square each element\n",
        "matrix_squared = np.power(matrix, 2)\n",
        "print(\"Squared:\\n\", matrix_squared)\n",
        "\n",
        "# d. Create the given array\n",
        "a = np.arange(2, 42, 2).reshape(4, 5)\n",
        "print(\"Custom matrix:\\n\", a)\n",
        "\n",
        "# e. Use comparison operators\n",
        "print(\"Elements > 6:\\n\", a > 6)\n",
        "print(\"Elements == 10:\\n\", a == 10)\n",
        "\n",
        "# f. Logical operators\n",
        "print(\"Logical OR:\\n\", (a < 3) | (a > 8))\n",
        "print(\"Logical AND:\\n\", (a > 4) & (a < 7))\n",
        "print(\"Logical NOT:\\n\", ~(a > 6))"
      ],
      "metadata": {
        "colab": {
          "base_uri": "https://localhost:8080/",
          "height": 0
        },
        "id": "3ns-_cEs2rC4",
        "outputId": "c6521d73-616a-4eca-af0a-6f83282b5b4d"
      },
      "execution_count": 4,
      "outputs": [
        {
          "output_type": "stream",
          "name": "stdout",
          "text": [
            "3x4 Matrix:\n",
            " [[ 0  1  2  3]\n",
            " [ 4  5  6  7]\n",
            " [ 8  9 10 11]]\n",
            "Added 150:\n",
            " [[150 151 152 153]\n",
            " [154 155 156 157]\n",
            " [158 159 160 161]]\n",
            "Squared:\n",
            " [[  0   1   4   9]\n",
            " [ 16  25  36  49]\n",
            " [ 64  81 100 121]]\n",
            "Custom matrix:\n",
            " [[ 2  4  6  8 10]\n",
            " [12 14 16 18 20]\n",
            " [22 24 26 28 30]\n",
            " [32 34 36 38 40]]\n",
            "Elements > 6:\n",
            " [[False False False  True  True]\n",
            " [ True  True  True  True  True]\n",
            " [ True  True  True  True  True]\n",
            " [ True  True  True  True  True]]\n",
            "Elements == 10:\n",
            " [[False False False False  True]\n",
            " [False False False False False]\n",
            " [False False False False False]\n",
            " [False False False False False]]\n",
            "Logical OR:\n",
            " [[ True False False False  True]\n",
            " [ True  True  True  True  True]\n",
            " [ True  True  True  True  True]\n",
            " [ True  True  True  True  True]]\n",
            "Logical AND:\n",
            " [[False False  True False False]\n",
            " [False False False False False]\n",
            " [False False False False False]\n",
            " [False False False False False]]\n",
            "Logical NOT:\n",
            " [[ True  True  True False False]\n",
            " [False False False False False]\n",
            " [False False False False False]\n",
            " [False False False False False]]\n"
          ]
        }
      ]
    },
    {
      "cell_type": "markdown",
      "source": [
        "5. Array Indexing and Slicing - Position: Indexing refer to extracting elements\n",
        "based on their position or certain criteria. This is one of the fundamental\n",
        "operations with arrays.\n",
        "a. Create an array with 12 elements.\n",
        "b. Make all elements from index 7 to 11 to -1.\n",
        "c. Extract elements at index 2,3,6 positions in one go.\n",
        "d. Create a matrix of size 3X4.\n",
        "e. Extract 2nd row\n",
        "f. Extract 3rd column\n",
        "g. Extract 1st, 2nd row\n",
        "h. Extract 2nd row, 3rd column\n",
        "i. Extract 1s, 2nd row, first three columns\n",
        "j. set the third row to 1,2,3,4"
      ],
      "metadata": {
        "id": "Yge0YSO04AFx"
      }
    },
    {
      "cell_type": "code",
      "source": [
        "# 5. Array Indexing and Slicing - Position\n",
        "\n",
        "# a. Create an array with 12 elements\n",
        "arr4 = np.arange(12)\n",
        "print(\"Array:\\n\", arr4)\n",
        "\n",
        "# b. Modify elements\n",
        "arr4[7:11] = -1\n",
        "print(\"Modified array:\\n\", arr4)\n",
        "\n",
        "# c. Extract elements at index 2,3,6\n",
        "print(\"Extracted elements:\\n\", arr4[[2, 3, 6]])\n",
        "\n",
        "# d. Create a 3X4 matrix\n",
        "matrix2 = np.arange(12).reshape(3, 4)\n",
        "print(\"3x4 Matrix:\\n\", matrix2)\n",
        "\n",
        "# e. Extract rows and columns\n",
        "print(\"2nd row:\\n\", matrix2[1])\n",
        "print(\"3rd column:\\n\", matrix2[:, 2])\n",
        "print(\"1st, 2nd row:\\n\", matrix2[:2])\n",
        "print(\"2nd row, 3rd column:\\n\", matrix2[1, 2])\n",
        "print(\"1st, 2nd row, first 3 columns:\\n\", matrix2[:2, :3])\n",
        "\n",
        "# j. Set the third row to 1,2,3,4\n",
        "\n",
        "matrix2[2] = [1, 2, 3, 4]\n",
        "print(\"Modified matrix:\\n\", matrix2)"
      ],
      "metadata": {
        "colab": {
          "base_uri": "https://localhost:8080/",
          "height": 0
        },
        "id": "IsMaC3di4FF6",
        "outputId": "5db61c8a-4cbb-48df-ce1d-d5da7cac7b79"
      },
      "execution_count": 9,
      "outputs": [
        {
          "output_type": "stream",
          "name": "stdout",
          "text": [
            "Array:\n",
            " [ 0  1  2  3  4  5  6  7  8  9 10 11]\n",
            "Modified array:\n",
            " [ 0  1  2  3  4  5  6 -1 -1 -1 -1 11]\n",
            "Extracted elements:\n",
            " [2 3 6]\n",
            "3x4 Matrix:\n",
            " [[ 0  1  2  3]\n",
            " [ 4  5  6  7]\n",
            " [ 8  9 10 11]]\n",
            "2nd row:\n",
            " [4 5 6 7]\n",
            "3rd column:\n",
            " [ 2  6 10]\n",
            "1st, 2nd row:\n",
            " [[0 1 2 3]\n",
            " [4 5 6 7]]\n",
            "2nd row, 3rd column:\n",
            " 6\n",
            "1st, 2nd row, first 3 columns:\n",
            " [[0 1 2]\n",
            " [4 5 6]]\n",
            "Modified matrix:\n",
            " [[0 1 2 3]\n",
            " [4 5 6 7]\n",
            " [1 2 3 4]]\n"
          ]
        }
      ]
    },
    {
      "cell_type": "markdown",
      "source": [
        "6. Array Indexing and Slicing – Criteria\n",
        "a. Create two vectors:\n",
        "i. names = np.array([\"Rahul\", \"Simran\", \"Ritesh\", \"Simran\",\n",
        "\"Rahul\"])\n",
        "ii. score = np.array([126, 115, 130, 141, 132])\n",
        "b. Extract all test scores that are smaller than 130\n",
        "c. Extract all test scores by Simran\n",
        "d. Add 10 points to Rahul’s scores."
      ],
      "metadata": {
        "id": "1D1L3yQd4RNP"
      }
    },
    {
      "cell_type": "code",
      "source": [
        "# 6. Array Indexing and Slicing – Criteria\n",
        "\n",
        "names = np.array([\"Rahul\", \"Simran\", \"Ritesh\", \"Simran\", \"Rahul\"])\n",
        "scores = np.array([126, 115, 130, 141, 132])\n",
        "\n",
        "# b. Extract scores < 130\n",
        "print(\"Scores < 130:\\n\", scores[scores < 130])\n",
        "\n",
        "# c. Extract Simran’s scores\n",
        "print(\"Simran's scores:\\n\", scores[names == \"Simran\"])\n",
        "\n",
        "# d. Add 10 points to Rahul's scores\n",
        "scores[names == \"Rahul\"] += 10\n",
        "print(\"Updated scores:\\n\", scores)"
      ],
      "metadata": {
        "colab": {
          "base_uri": "https://localhost:8080/",
          "height": 0
        },
        "id": "EU5hnxof4YMQ",
        "outputId": "29d8783e-3afe-44d8-8776-36e5f245aa21"
      },
      "execution_count": 7,
      "outputs": [
        {
          "output_type": "stream",
          "name": "stdout",
          "text": [
            "Scores < 130:\n",
            " [126 115]\n",
            "Simran's scores:\n",
            " [115 141]\n",
            "Updated scores:\n",
            " [136 115 130 141 142]\n"
          ]
        }
      ]
    },
    {
      "cell_type": "markdown",
      "source": [
        "7. Random Numbers:\n",
        "    a. Explore random.choice\n",
        "    b. Explore random.normals\n",
        "    c. Explore random.binomial\n",
        "    d. Explore random.uniform\n",
        "    e. Explore and explain the use of random.seed"
      ],
      "metadata": {
        "id": "eJeShRRQ4kQO"
      }
    },
    {
      "cell_type": "code",
      "source": [
        "# 7. Random Numbers\n",
        "print(\"Random choice:\\n\", np.random.choice(scores))\n",
        "print(\"Random normal:\\n\", np.random.normal(size=5))\n",
        "print(\"Random binomial:\\n\", np.random.binomial(10, 0.5, 5))\n",
        "print(\"Random uniform:\\n\", np.random.uniform(0, 10, 5))\n",
        "\n",
        "# Using random seed\n",
        "np.random.seed(42)\n",
        "print(\"Random number with seed:\\n\", np.random.rand())"
      ],
      "metadata": {
        "colab": {
          "base_uri": "https://localhost:8080/",
          "height": 0
        },
        "id": "5IitXLPb4t2B",
        "outputId": "26f99af8-6c8c-4d8b-ac53-7780e680425f"
      },
      "execution_count": 8,
      "outputs": [
        {
          "output_type": "stream",
          "name": "stdout",
          "text": [
            "Random choice:\n",
            " 136\n",
            "Random normal:\n",
            " [ 0.28703292  0.52552664 -0.92754934 -0.30953096  0.2618955 ]\n",
            "Random binomial:\n",
            " [5 6 4 8 4]\n",
            "Random uniform:\n",
            " [2.57549355 6.47136616 3.27979813 4.72864556 7.18835179]\n",
            "Random number with seed:\n",
            " 0.3745401188473625\n"
          ]
        }
      ]
    },
    {
      "cell_type": "markdown",
      "source": [
        "8. Statistical Functions: (sum, mean, median, etc...)\n",
        "a. Create a matrix of size 3X4\n",
        "b. Find the sum of all elements\n",
        "c. Add rows, preserve columns\n",
        "d. Add columns, preserve rows\n",
        "Note: a.sum and np.sum(a) are same."
      ],
      "metadata": {
        "id": "lpOmGF8x40_t"
      }
    },
    {
      "cell_type": "code",
      "source": [
        "# 8. Statistical Functions\n",
        "\n",
        "# a. Creating matrix\n",
        "mat3 = np.random.randint(1, 100, size=(3, 4))\n",
        "print(\"Matrix:\\n\", mat3)\n",
        "\n",
        "# b. Sum of all elements\n",
        "print(\"Sum:\\n\", mat3.sum())\n",
        "\n",
        "# c. Sum across rows\n",
        "print(\"Sum across rows:\\n\", mat3.sum(axis=1))\n",
        "\n",
        "# d. Sum across columns\n",
        "print(\"Sum across columns:\\n\", mat3.sum(axis=0))"
      ],
      "metadata": {
        "colab": {
          "base_uri": "https://localhost:8080/",
          "height": 0
        },
        "id": "xhulI0aA44T2",
        "outputId": "8cdeb760-62bb-445e-bc70-22be2c8f3012"
      },
      "execution_count": 10,
      "outputs": [
        {
          "output_type": "stream",
          "name": "stdout",
          "text": [
            "Matrix:\n",
            " [[93 15 72 61]\n",
            " [21 83 87 75]\n",
            " [75 88 24  3]]\n",
            "Sum:\n",
            " 697\n",
            "Sum across rows:\n",
            " [241 266 190]\n",
            "Sum across columns:\n",
            " [189 186 183 139]\n"
          ]
        }
      ]
    },
    {
      "cell_type": "code",
      "source": [],
      "metadata": {
        "id": "mJyX2q855AfI"
      },
      "execution_count": null,
      "outputs": []
    }
  ]
}